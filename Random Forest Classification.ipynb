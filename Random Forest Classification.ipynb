{
  "nbformat": 4,
  "nbformat_minor": 0,
  "metadata": {
    "colab": {
      "provenance": []
    },
    "kernelspec": {
      "name": "python3",
      "display_name": "Python 3"
    },
    "language_info": {
      "name": "python"
    }
  },
  "cells": [
    {
      "cell_type": "code",
      "source": [
        "import pandas as pd\n",
        "from sklearn.feature_extraction.text import TfidfVectorizer\n",
        "from sklearn.ensemble import RandomForestClassifier\n",
        "from sklearn.model_selection import train_test_split\n",
        "from sklearn.metrics import accuracy_score\n",
        "\n",
        "# Load first Excel file\n",
        "data = pd.read_excel('train.xlsx')\n",
        "\n",
        "# Split data into features and target variable\n",
        "X = data['Entity Title']  # Selecting 'Entity Title' as the only feature\n",
        "y = data['Category']\n",
        "\n",
        "# Preprocessing\n",
        "tfidf = TfidfVectorizer()\n",
        "X_title = tfidf.fit_transform(X)\n",
        "\n",
        "# Train-test split\n",
        "X_train, X_test, y_train, y_test = train_test_split(X_title, y, test_size=0.2, random_state=42)\n",
        "\n",
        "# Model training\n",
        "model = RandomForestClassifier()\n",
        "model.fit(X_train, y_train)\n",
        "\n",
        "# Model evaluation\n",
        "predictions = model.predict(X_test)\n",
        "accuracy = accuracy_score(y_test, predictions)\n",
        "print(f\"Accuracy: {accuracy}\")\n",
        "\n",
        "# Convert X_test (csr_matrix) to a DataFrame\n",
        "X_test_df = pd.DataFrame.sparse.from_spmatrix(X_test, columns=tfidf.get_feature_names_out())\n",
        "\n",
        "# Reset the index of X_test_df for proper alignment\n",
        "X_test_df.reset_index(drop=True, inplace=True)\n",
        "\n",
        "# Create a DataFrame with predicted category and actual category for the test set\n",
        "output_df = pd.DataFrame({'Entity Title': X.iloc[X_test_df.index].values,\n",
        "                          'Predicted Category': predictions,\n",
        "                          'Actual Category': y_test})\n",
        "\n",
        "# Display the output DataFrame\n",
        "print(output_df)\n"
      ],
      "metadata": {
        "colab": {
          "base_uri": "https://localhost:8080/"
        },
        "id": "Dak3u16F4UO4",
        "outputId": "6cfb0b45-7b9b-4f2f-cf70-872051e6db79"
      },
      "execution_count": null,
      "outputs": [
        {
          "output_type": "stream",
          "name": "stdout",
          "text": [
            "Accuracy: 0.7802359882005899\n",
            "                                           Entity Title  \\\n",
            "3377   Integrity e-Learning (Anti-Bribery & Corruption)   \n",
            "3284  ISO 37001:2016 Anti-Bribery Management Systems...   \n",
            "2548  ISO 37001:2016 Anti-Bribery Management Systems...   \n",
            "1233                         ESG AND INSURANCE (ONLINE)   \n",
            "438   STRENGTHENING CONFIDENCE IN SUSTAINABILITY REP...   \n",
            "...                                                 ...   \n",
            "2481  Deloitte & MACT Event | Corporate Treasurer's ...   \n",
            "2340                                 SEMINAR TANAH 2022   \n",
            "2400  BASIC SCAFFOLDING COMPETENCY TRAINING FOR FRAM...   \n",
            "2345               PENTADBIRAN PEJABAT UNTUK SETIAUSAHA   \n",
            "2639                        RISK MANAGEMENT FUNDAMENTAL   \n",
            "\n",
            "         Predicted Category        Actual Category  \n",
            "3377             Functional             Functional  \n",
            "3284             Functional             Functional  \n",
            "2548             Functional             Functional  \n",
            "1233                    HSE                    HSE  \n",
            "438              Functional             Functional  \n",
            "...                     ...                    ...  \n",
            "2481  Technical/Engineering  Technical/Engineering  \n",
            "2340                    HSE  Technical/Engineering  \n",
            "2400  Technical/Engineering  Technical/Engineering  \n",
            "2345  Technical/Engineering  Technical/Engineering  \n",
            "2639  Technical/Engineering  Technical/Engineering  \n",
            "\n",
            "[678 rows x 3 columns]\n"
          ]
        }
      ]
    },
    {
      "cell_type": "code",
      "source": [
        "# Assuming 'output_df' is already generated from previous steps\n",
        "\n",
        "# Filter rows where predicted category is different from actual category\n",
        "wrong_predictions = output_df[output_df['Predicted Category'] != output_df['Actual Category']]\n",
        "\n",
        "# Save the wrongly predicted categories to a new Excel file\n",
        "wrong_predictions.to_excel('randomforest_wrongpredictions.xlsx', index=False)\n"
      ],
      "metadata": {
        "id": "g9so1UAem7KB"
      },
      "execution_count": null,
      "outputs": []
    },
    {
      "cell_type": "code",
      "source": [
        "import joblib\n",
        "from sklearn.feature_extraction.text import TfidfVectorizer\n",
        "from sklearn.ensemble import RandomForestClassifier\n",
        "\n",
        "# Assuming you have already trained your model and vectorizer\n",
        "# Example training code\n",
        "# ...\n",
        "\n",
        "# Save the trained model and TF-IDF vectorizer to files\n",
        "joblib.dump(model, 'noID_trained_model.pkl')  # Save the model\n",
        "joblib.dump(tfidf, 'noID_tfidf_vectorizer.pkl')  # Save the TF-IDF vectorizer\n"
      ],
      "metadata": {
        "colab": {
          "base_uri": "https://localhost:8080/"
        },
        "id": "M50ob9qluz9O",
        "outputId": "db1c3096-6344-48c2-bfe7-baf447389554"
      },
      "execution_count": null,
      "outputs": [
        {
          "output_type": "execute_result",
          "data": {
            "text/plain": [
              "['noID_tfidf_vectorizer.pkl']"
            ]
          },
          "metadata": {},
          "execution_count": 2
        }
      ]
    },
    {
      "cell_type": "code",
      "source": [
        "!ls"
      ],
      "metadata": {
        "colab": {
          "base_uri": "https://localhost:8080/"
        },
        "id": "OK-lTNn3u9bV",
        "outputId": "61f11e5b-3a43-4280-8799-cba65b658cee"
      },
      "execution_count": null,
      "outputs": [
        {
          "output_type": "stream",
          "name": "stdout",
          "text": [
            "'Learning Category Masterlist - no ID.xlsx'   noID_trained_model.pkl\n",
            " noID_tfidf_vectorizer.pkl\t\t      sample_data\n"
          ]
        }
      ]
    },
    {
      "cell_type": "code",
      "source": [
        "import joblib\n",
        "import pandas as pd\n",
        "from sklearn.feature_extraction.text import TfidfVectorizer\n",
        "\n",
        "# Load the downloaded model and TF-IDF vectorizer\n",
        "loaded_model = joblib.load('noID_trained_model.pkl')  # Load the model\n",
        "loaded_tfidf = joblib.load('noID_tfidf_vectorizer.pkl')  # Load the TF-IDF vectorizer\n"
      ],
      "metadata": {
        "id": "FqiX9pIwwNyY"
      },
      "execution_count": null,
      "outputs": []
    },
    {
      "cell_type": "code",
      "source": [
        "import pandas as pd\n",
        "from sklearn.feature_extraction.text import TfidfVectorizer\n",
        "import joblib\n",
        "\n",
        "# Load the new Excel file\n",
        "new_data = pd.read_excel('test.xlsx')\n",
        "\n",
        "# Check the columns in the DataFrame\n",
        "print(new_data.columns)\n",
        "\n",
        "# Assuming 'Entity ID' and 'Entity Title' are the correct column names\n",
        "X_new = new_data[['Entity Title']]  # Selecting 'Entity Title'\n",
        "\n",
        "# Load the previously trained TF-IDF vectorizer and model\n",
        "loaded_tfidf = joblib.load('noID_tfidf_vectorizer.pkl')  # Load the TF-IDF vectorizer\n",
        "loaded_model = joblib.load('noID_trained_model.pkl')  # Load the model\n",
        "\n",
        "# Transform 'Entity Title' using the loaded TF-IDF vectorizer\n",
        "X_new_title = loaded_tfidf.transform(X_new['Entity Title'])\n",
        "\n",
        "# Make predictions on the new data\n",
        "new_predictions = loaded_model.predict(X_new_title)\n",
        "\n",
        "# Create a DataFrame with title and predicted category for the new data\n",
        "new_output_df = pd.DataFrame({'Entity Title': X_new['Entity Title'].values,\n",
        "                              'Predicted Category': new_predictions})\n",
        "\n",
        "# Display the output DataFrame for the new data\n",
        "print(new_output_df)\n",
        "\n",
        "# Save the predictions to an Excel file locally\n",
        "new_output_df.to_excel('predicted_data.xlsx', index=False)\n"
      ],
      "metadata": {
        "colab": {
          "base_uri": "https://localhost:8080/"
        },
        "id": "ip_rE5GR5iBs",
        "outputId": "07a2486c-d3a4-4901-c96a-0d3c147d8481"
      },
      "execution_count": null,
      "outputs": [
        {
          "output_type": "stream",
          "name": "stdout",
          "text": [
            "Index(['Entity Title'], dtype='object')\n",
            "                                          Entity Title Predicted Category\n",
            "0    LEAN SIX SIGMA GREEN BELT CERTIFICATION PROGRA...         Leadership\n",
            "1            Retail Academy - Career Coaching Bootcamp         Leadership\n",
            "2           Hazardous Chemical Management at Workplace                HSE\n",
            "3                                         AGILE LEADER         Functional\n",
            "4    KURSUS PENGENALAN PERTOLONGAN CEMAS, CPR DAN A...                HSE\n",
            "..                                                 ...                ...\n",
            "744                    Psychology of People Management         Functional\n",
            "745             Modul 3 - Business & Commercial Acumen         Functional\n",
            "746       PROJECT MANAGEMENT ESSENTIALS FOR EXECUTIVES         Functional\n",
            "747               PROJECT MANAGEMENT : COST MANAGEMENT         Functional\n",
            "748  PMI Agile Certified Practitioner (PMI-ACP) Â� ...         Functional\n",
            "\n",
            "[749 rows x 2 columns]\n"
          ]
        }
      ]
    },
    {
      "cell_type": "code",
      "source": [
        "!ls"
      ],
      "metadata": {
        "colab": {
          "base_uri": "https://localhost:8080/"
        },
        "id": "PDAZxGPOLu9g",
        "outputId": "3ecfa462-3e7f-4dc1-ebc9-e978810c817d"
      },
      "execution_count": null,
      "outputs": [
        {
          "output_type": "stream",
          "name": "stdout",
          "text": [
            "actualtest_randomforest_wrongpredictions.xlsx  noID_trained_model.pkl  sample_data  train.xlsx\n",
            "noID_tfidf_vectorizer.pkl\t\t       predicted_data.xlsx     test.xlsx\n"
          ]
        }
      ]
    },
    {
      "cell_type": "code",
      "source": [
        "# Assuming 'output_df' is already generated from previous steps\n",
        "import pandas as pd\n",
        "# Load validation results\n",
        "validation_results = pd.read_excel('predicted_data.xlsx')\n",
        "\n",
        "# Filter rows where predicted category is different from actual category\n",
        "wrong_predictions = validation_results[validation_results['Predicted Category'] != validation_results['Actual Category']]\n",
        "\n",
        "# Save the wrongly predicted categories to a new Excel file\n",
        "wrong_predictions.to_excel('actualtest_randomforest_wrongpredictions.xlsx', index=False)\n"
      ],
      "metadata": {
        "id": "_U1GbWfZssqu"
      },
      "execution_count": null,
      "outputs": []
    },
    {
      "cell_type": "code",
      "source": [
        "!ls"
      ],
      "metadata": {
        "id": "hGGghhI6fgsJ",
        "outputId": "d1b899e8-29ff-45f2-fcc1-245a1f840228",
        "colab": {
          "base_uri": "https://localhost:8080/"
        }
      },
      "execution_count": null,
      "outputs": [
        {
          "output_type": "stream",
          "name": "stdout",
          "text": [
            "actualtest_randomforest_wrongpredictions.xlsx  predicted_data.xlsx  sample_data\n"
          ]
        }
      ]
    },
    {
      "cell_type": "markdown",
      "source": [
        "# SUmmary\n"
      ],
      "metadata": {
        "id": "vWvk4AgCmFWh"
      }
    },
    {
      "cell_type": "markdown",
      "source": [
        "predict with uncategorized: 311 out of 1225 wrong predictions"
      ],
      "metadata": {
        "id": "mQNfC6cQ22xp"
      }
    },
    {
      "cell_type": "markdown",
      "source": [
        "114 out of 749 wrong (15.22%)\n",
        "0.78 accuracy\n"
      ],
      "metadata": {
        "id": "xLrhau4rIBFo"
      }
    }
  ]
}