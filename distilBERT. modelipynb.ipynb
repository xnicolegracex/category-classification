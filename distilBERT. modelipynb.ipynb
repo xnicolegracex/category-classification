{
  "cells": [
    {
      "cell_type": "code",
      "execution_count": null,
      "metadata": {
        "colab": {
          "base_uri": "https://localhost:8080/"
        },
        "id": "0cdGfwLV-TND",
        "outputId": "24900bda-bed9-4b4d-a732-b0efb114908c"
      },
      "outputs": [
        {
          "output_type": "stream",
          "name": "stdout",
          "text": [
            "Requirement already satisfied: transformers in /usr/local/lib/python3.10/dist-packages (4.35.2)\n",
            "Requirement already satisfied: filelock in /usr/local/lib/python3.10/dist-packages (from transformers) (3.13.1)\n",
            "Requirement already satisfied: huggingface-hub<1.0,>=0.16.4 in /usr/local/lib/python3.10/dist-packages (from transformers) (0.19.4)\n",
            "Requirement already satisfied: numpy>=1.17 in /usr/local/lib/python3.10/dist-packages (from transformers) (1.23.5)\n",
            "Requirement already satisfied: packaging>=20.0 in /usr/local/lib/python3.10/dist-packages (from transformers) (23.2)\n",
            "Requirement already satisfied: pyyaml>=5.1 in /usr/local/lib/python3.10/dist-packages (from transformers) (6.0.1)\n",
            "Requirement already satisfied: regex!=2019.12.17 in /usr/local/lib/python3.10/dist-packages (from transformers) (2023.6.3)\n",
            "Requirement already satisfied: requests in /usr/local/lib/python3.10/dist-packages (from transformers) (2.31.0)\n",
            "Requirement already satisfied: tokenizers<0.19,>=0.14 in /usr/local/lib/python3.10/dist-packages (from transformers) (0.15.0)\n",
            "Requirement already satisfied: safetensors>=0.3.1 in /usr/local/lib/python3.10/dist-packages (from transformers) (0.4.1)\n",
            "Requirement already satisfied: tqdm>=4.27 in /usr/local/lib/python3.10/dist-packages (from transformers) (4.66.1)\n",
            "Requirement already satisfied: fsspec>=2023.5.0 in /usr/local/lib/python3.10/dist-packages (from huggingface-hub<1.0,>=0.16.4->transformers) (2023.6.0)\n",
            "Requirement already satisfied: typing-extensions>=3.7.4.3 in /usr/local/lib/python3.10/dist-packages (from huggingface-hub<1.0,>=0.16.4->transformers) (4.5.0)\n",
            "Requirement already satisfied: charset-normalizer<4,>=2 in /usr/local/lib/python3.10/dist-packages (from requests->transformers) (3.3.2)\n",
            "Requirement already satisfied: idna<4,>=2.5 in /usr/local/lib/python3.10/dist-packages (from requests->transformers) (3.6)\n",
            "Requirement already satisfied: urllib3<3,>=1.21.1 in /usr/local/lib/python3.10/dist-packages (from requests->transformers) (2.0.7)\n",
            "Requirement already satisfied: certifi>=2017.4.17 in /usr/local/lib/python3.10/dist-packages (from requests->transformers) (2023.11.17)\n"
          ]
        }
      ],
      "source": [
        "pip install transformers"
      ]
    },
    {
      "cell_type": "code",
      "execution_count": null,
      "metadata": {
        "colab": {
          "base_uri": "https://localhost:8080/"
        },
        "id": "JFYKuAZZDCO7",
        "outputId": "c3539649-6987-450d-e70e-1eb86a63133d"
      },
      "outputs": [
        {
          "output_type": "stream",
          "name": "stderr",
          "text": [
            "Some weights of DistilBertForSequenceClassification were not initialized from the model checkpoint at distilbert-base-uncased and are newly initialized: ['pre_classifier.bias', 'pre_classifier.weight', 'classifier.bias', 'classifier.weight']\n",
            "You should probably TRAIN this model on a down-stream task to be able to use it for predictions and inference.\n"
          ]
        },
        {
          "output_type": "stream",
          "name": "stdout",
          "text": [
            "Epoch 1/3 - Test Accuracy: 0.764\n",
            "Epoch 2/3 - Test Accuracy: 0.8066666666666666\n",
            "Epoch 3/3 - Test Accuracy: 0.8013333333333333\n",
            "Final Test Accuracy: 0.8013333333333333\n"
          ]
        }
      ],
      "source": [
        "import torch\n",
        "from transformers import DistilBertTokenizer, DistilBertForSequenceClassification\n",
        "from sklearn.model_selection import train_test_split\n",
        "from sklearn.metrics import accuracy_score\n",
        "from sklearn.preprocessing import LabelEncoder\n",
        "import pandas as pd\n",
        "\n",
        "# Load your data\n",
        "data = pd.read_excel('training data with ID.xlsx')\n",
        "X = data[['entity_id', 'entity_title']]\n",
        "y = data['category']\n",
        "\n",
        "# Label encoding for the target labels\n",
        "label_encoder = LabelEncoder()\n",
        "y_train_encoded = label_encoder.fit_transform(y)\n",
        "\n",
        "# Split data into training and testing sets\n",
        "X_train, X_test, y_train, y_test = train_test_split(X, y_train_encoded, test_size=0.2, random_state=42)\n",
        "\n",
        "# Load DistilBERT tokenizer and model\n",
        "tokenizer = DistilBertTokenizer.from_pretrained('distilbert-base-uncased')\n",
        "model = DistilBertForSequenceClassification.from_pretrained('distilbert-base-uncased', num_labels=len(set(y_train_encoded)))\n",
        "\n",
        "# Tokenize input texts\n",
        "X_train_encoded = tokenizer(list(X_train['entity_title']), padding=True, truncation=True, return_tensors='pt')\n",
        "X_test_encoded = tokenizer(list(X_test['entity_title']), padding=True, truncation=True, return_tensors='pt')\n",
        "\n",
        "# Define optimizer\n",
        "optimizer = torch.optim.Adam(model.parameters(), lr=1e-5)\n",
        "\n",
        "# ORIGINAL Training loop\n",
        "num_epochs = 2\n",
        "batch_size = 8\n",
        "\n",
        "for epoch in range(num_epochs):\n",
        "    model.train()\n",
        "    for i in range(0, len(X_train), batch_size):\n",
        "        optimizer.zero_grad()\n",
        "        batch_indices = list(range(i, min(i + batch_size, len(X_train))))\n",
        "\n",
        "        if len(batch_indices) > 0:  # Ensure there are samples in the batch\n",
        "            batch_X = {key: val[batch_indices] for key, val in X_train_encoded.items()}\n",
        "            batch_y = torch.as_tensor(y_train[batch_indices])\n",
        "\n",
        "            outputs = model(**batch_X, labels=batch_y)\n",
        "            loss = outputs.loss\n",
        "            loss.backward()\n",
        "            optimizer.step()\n",
        "\n",
        "    # Evaluate on test data after each epoch\n",
        "    model.eval()\n",
        "    with torch.no_grad():\n",
        "        outputs = model(**X_test_encoded)\n",
        "        predictions = torch.argmax(outputs.logits, dim=1)\n",
        "        accuracy = accuracy_score(y_test, predictions)\n",
        "        print(f\"Epoch {epoch+1}/{num_epochs} - Test Accuracy: {accuracy}\")\n",
        "\n",
        "# Final evaluation on test data\n",
        "model.eval()\n",
        "with torch.no_grad():\n",
        "    outputs = model(**X_test_encoded)\n",
        "    predictions = torch.argmax(outputs.logits, dim=1)\n",
        "    accuracy = accuracy_score(y_test, predictions)\n",
        "    print(f\"Final Test Accuracy: {accuracy}\")\n",
        "\n",
        "    # Decode the predicted labels back to their original category names\n",
        "    predicted_categories = label_encoder.inverse_transform(predictions.numpy())\n",
        "\n",
        "    # Decode the actual labels back to their original category names\n",
        "    actual_categories = label_encoder.inverse_transform(y_test)\n",
        "\n",
        "    # Create a DataFrame to store predicted and actual categories\n",
        "    results_df = pd.DataFrame({\n",
        "        'Entity Title': X_test['entity_title'],  # Assuming 'Entity Title' is the column name\n",
        "        'Predicted Category': predicted_categories,\n",
        "        'Actual Category': actual_categories\n",
        "    })\n",
        "\n",
        "    # Save the DataFrame to an Excel file\n",
        "    results_df.to_excel('distilBERT.xlsx', index=False)"
      ]
    },
    {
      "cell_type": "code",
      "execution_count": null,
      "metadata": {
        "colab": {
          "base_uri": "https://localhost:8080/"
        },
        "id": "KVHZ3YAZcXCQ",
        "outputId": "e322951c-e411-40af-8bb1-cbd5314c2b13"
      },
      "outputs": [
        {
          "output_type": "stream",
          "name": "stdout",
          "text": [
            "\n",
            "Confusion Matrix:\n",
            "[[  0   0   2   0   0   0]\n",
            " [  0  34   1   0   0   1]\n",
            " [  0   0 336   5  12  21]\n",
            " [  0   3   7  69   0   4]\n",
            " [  0   0  17   0  25   2]\n",
            " [  0   9  47  17   1 137]]\n",
            "\n",
            "Classification Report:\n",
            "                       precision    recall  f1-score   support\n",
            "\n",
            "      Anti Corruption       0.00      0.00      0.00         2\n",
            "               ESG/ET       0.74      0.94      0.83        36\n",
            "           Functional       0.82      0.90      0.86       374\n",
            "                  HSE       0.76      0.83      0.79        83\n",
            "           Leadership       0.66      0.57      0.61        44\n",
            "Technical/Engineering       0.83      0.65      0.73       211\n",
            "\n",
            "             accuracy                           0.80       750\n",
            "            macro avg       0.63      0.65      0.64       750\n",
            "         weighted avg       0.80      0.80      0.80       750\n",
            "\n"
          ]
        },
        {
          "output_type": "stream",
          "name": "stderr",
          "text": [
            "/usr/local/lib/python3.10/dist-packages/sklearn/metrics/_classification.py:1344: UndefinedMetricWarning: Precision and F-score are ill-defined and being set to 0.0 in labels with no predicted samples. Use `zero_division` parameter to control this behavior.\n",
            "  _warn_prf(average, modifier, msg_start, len(result))\n",
            "/usr/local/lib/python3.10/dist-packages/sklearn/metrics/_classification.py:1344: UndefinedMetricWarning: Precision and F-score are ill-defined and being set to 0.0 in labels with no predicted samples. Use `zero_division` parameter to control this behavior.\n",
            "  _warn_prf(average, modifier, msg_start, len(result))\n",
            "/usr/local/lib/python3.10/dist-packages/sklearn/metrics/_classification.py:1344: UndefinedMetricWarning: Precision and F-score are ill-defined and being set to 0.0 in labels with no predicted samples. Use `zero_division` parameter to control this behavior.\n",
            "  _warn_prf(average, modifier, msg_start, len(result))\n"
          ]
        }
      ],
      "source": [
        "from sklearn.metrics import confusion_matrix, classification_report\n",
        "\n",
        "# Load the saved predictions and actual categories from the Excel file\n",
        "#results_df = pd.read_excel('Predicted_vs_Actual.xlsx')\n",
        "\n",
        "# Extract predicted and actual categories\n",
        "predicted_categories = results_df['Predicted Category']\n",
        "actual_categories = results_df['Actual Category']\n",
        "\n",
        "# Generate confusion matrix\n",
        "conf_matrix = confusion_matrix(actual_categories, predicted_categories)\n",
        "\n",
        "# Generate classification report\n",
        "class_report = classification_report(actual_categories, predicted_categories)\n",
        "\n",
        "# Display confusion matrix\n",
        "print(\"\\nConfusion Matrix:\")\n",
        "print(conf_matrix)\n",
        "\n",
        "# Display classification report\n",
        "print(\"\\nClassification Report:\")\n",
        "print(class_report)\n"
      ]
    },
    {
      "cell_type": "code",
      "source": [
        "import pandas as pd\n",
        "\n",
        "# Load the uploaded file into a DataFrame\n",
        "df = pd.read_excel('distilBERT.xlsx')\n",
        "\n",
        "# Filter rows where predicted and actual categories are different\n",
        "different_categories = df[df['Predicted Category'] != df['Actual Category']]\n",
        "\n",
        "# Save the filtered DataFrame to a new Excel file\n",
        "different_categories.to_excel('different_categories.xlsx', index=False)\n"
      ],
      "metadata": {
        "id": "UEasCmLLgWaU"
      },
      "execution_count": null,
      "outputs": []
    }
  ],
  "metadata": {
    "colab": {
      "provenance": []
    },
    "kernelspec": {
      "display_name": "Python 3",
      "name": "python3"
    },
    "language_info": {
      "name": "python"
    }
  },
  "nbformat": 4,
  "nbformat_minor": 0
}